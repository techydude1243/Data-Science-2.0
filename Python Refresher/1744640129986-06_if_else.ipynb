{
 "cells": [
  {
   "cell_type": "markdown",
   "id": "ad183e98-fe26-4007-a704-31d85880ebc2",
   "metadata": {},
   "source": [
    "# Conditional Statements in Python\n",
    "\n",
    "In Python, conditional statements (`if`, `elif`, and `else`) are used to control the flow of a program based on conditions. These are essential in data science for handling different scenarios in data processing, decision-making, and logic execution.\n",
    "\n",
    "## Basic `if` Statement\n",
    "The `if` statement allows you to execute a block of code only if a condition is `True`.\n",
    "\n",
    "```python\n",
    "x = 10\n",
    "if x > 5:\n",
    "    print(\"x is greater than 5\")\n",
    "```\n",
    "\n",
    "### Explanation:\n",
    "- The condition `x > 5` is checked.\n",
    "- If `True`, the indented block under `if` runs.\n",
    "- If `False`, nothing happens.\n",
    "\n",
    "## `if-else` Statement\n",
    "The `else` block executes when the `if` condition is `False`.\n",
    "\n",
    "```python\n",
    "x = 3\n",
    "if x > 5:\n",
    "    print(\"x is greater than 5\")\n",
    "else:\n",
    "    print(\"x is not greater than 5\")\n",
    "```\n",
    "\n",
    "### Explanation:\n",
    "- If `x > 5`, it prints the first message.\n",
    "- Otherwise, the `else` block executes.\n",
    "\n",
    "## `if-elif-else` Statement\n",
    "When multiple conditions need to be checked sequentially, use `elif` (short for \"else if\").\n",
    "\n",
    "```python\n",
    "x = 5\n",
    "if x > 10:\n",
    "    print(\"x is greater than 10\")\n",
    "elif x > 5:\n",
    "    print(\"x is greater than 5 but not more than 10\")\n",
    "elif x == 5:\n",
    "    print(\"x is exactly 5\")\n",
    "else:\n",
    "    print(\"x is less than 5\")\n",
    "```\n",
    "\n",
    "### Explanation:\n",
    "- The conditions are checked from top to bottom.\n",
    "- The first `True` condition executes, and the rest are skipped.\n",
    "\n",
    "## Using `if-else` in Data Science\n",
    "Conditional statements are widely used in data science for filtering, cleaning, and decision-making.\n",
    "\n",
    "### Example: Categorizing Data\n",
    "```python\n",
    "age = 25\n",
    "if age < 18:\n",
    "    category = \"Minor\"\n",
    "elif age < 65:\n",
    "    category = \"Adult\"\n",
    "else:\n",
    "    category = \"Senior Citizen\"\n",
    "\n",
    "print(\"Category:\", category)\n",
    "```\n",
    "\n",
    "### Example: Applying Conditions on Pandas DataFrame\n",
    "```python\n",
    "import pandas as pd\n",
    "\n",
    "data = {'Name': ['Alice', 'Bob', 'Charlie'], 'Score': [85, 40, 75]}\n",
    "df = pd.DataFrame(data)\n",
    "\n",
    "df['Result'] = df['Score'].apply(lambda x: 'Pass' if x >= 50 else 'Fail')\n",
    "print(df)\n",
    "```\n",
    "\n",
    "## Summary\n",
    "- `if`: Executes if the condition is `True`.\n",
    "- `if-else`: Adds an alternative block if the condition is `False`.\n",
    "- `if-elif-else`: Handles multiple conditions.\n",
    "- Useful in data science for logic-based decision-making.\n",
    " \n",
    "\n"
   ]
  },
  {
   "cell_type": "code",
   "execution_count": 3,
   "id": "332e454e-c4b5-4e82-bb9b-01504433e86e",
   "metadata": {},
   "outputs": [],
   "source": [
    "a = 400"
   ]
  },
  {
   "cell_type": "code",
   "execution_count": 4,
   "id": "bf9fb708-6cd3-40a8-b03a-ec97381fcd03",
   "metadata": {},
   "outputs": [
    {
     "name": "stdout",
     "output_type": "stream",
     "text": [
      "Greater\n"
     ]
    }
   ],
   "source": [
    "if(a>53):\n",
    "    print(\"Greater\")\n",
    "else:\n",
    "    print(\"Smaller\")\n",
    "    "
   ]
  },
  {
   "cell_type": "code",
   "execution_count": 9,
   "id": "437ea007-8d36-4cdf-9377-b572d3b96b54",
   "metadata": {},
   "outputs": [
    {
     "name": "stdout",
     "output_type": "stream",
     "text": [
      "Greater than 30\n"
     ]
    }
   ],
   "source": [
    "a = 33\n",
    "if a>50:\n",
    "    print(\"greater than 50\")\n",
    "elif(a>40):\n",
    "    print(\"greater than 40\")\n",
    "elif(a>30):\n",
    "    print(\"Greater than 30\")\n",
    "else:\n",
    "    print(\"Done!\")\n",
    "    \n",
    "    "
   ]
  },
  {
   "cell_type": "markdown",
   "id": "2617344d-2253-40ea-ad96-41c2302e968e",
   "metadata": {},
   "source": [
    "# Functions in Python\n",
    "\n",
    "A **function** is a reusable block of code that performs a specific task.\n",
    "\n",
    "## 1. Defining a Function\n",
    "```python\n",
    "def greet(name):\n",
    "    return f\"Hello, {name}!\"\n",
    "```\n",
    "\n",
    "## 2. Calling a Function\n",
    "```python\n",
    "print(greet(\"Alice\"))  # Output: Hello, Alice!\n",
    "```\n",
    "\n",
    "## 3. Function with Default Argument\n",
    "```python\n",
    "def greet(name=\"Guest\"):\n",
    "    return f\"Hello, {name}!\"\n",
    "```\n",
    "\n",
    "## 4. Function with Multiple Arguments\n",
    "```python\n",
    "def add(a, b):\n",
    "    return a + b\n",
    "print(add(3, 5))  # Output: 8\n",
    "```"
   ]
  },
  {
   "cell_type": "code",
   "execution_count": 4,
   "id": "db345236-8c60-4303-a9b6-e5e8dc3cb570",
   "metadata": {},
   "outputs": [],
   "source": [
    "def avg(a, b=10):\n",
    "    return (a+b)/2"
   ]
  },
  {
   "cell_type": "code",
   "execution_count": 5,
   "id": "a5f9b9d2-f5e0-4d24-8001-4266ba638ae6",
   "metadata": {},
   "outputs": [
    {
     "data": {
      "text/plain": [
       "5.0"
      ]
     },
     "execution_count": 5,
     "metadata": {},
     "output_type": "execute_result"
    }
   ],
   "source": [
    "avg(4, 6)"
   ]
  },
  {
   "cell_type": "code",
   "execution_count": 6,
   "id": "bb12f743-bc50-47e0-93d6-04ac1b8e5638",
   "metadata": {},
   "outputs": [
    {
     "data": {
      "text/plain": [
       "7.0"
      ]
     },
     "execution_count": 6,
     "metadata": {},
     "output_type": "execute_result"
    }
   ],
   "source": [
    "avg(4)"
   ]
  },
  {
   "cell_type": "code",
   "execution_count": 7,
   "id": "8186c26b-9907-4531-9826-a402668c76a3",
   "metadata": {},
   "outputs": [],
   "source": [
    "def greet():\n",
    "    print(\"Hello good morning\")"
   ]
  },
  {
   "cell_type": "code",
   "execution_count": 8,
   "id": "d0352cb8-2f2c-4fb7-9d7b-001bd083f6f9",
   "metadata": {},
   "outputs": [
    {
     "name": "stdout",
     "output_type": "stream",
     "text": [
      "Hello good morning\n"
     ]
    }
   ],
   "source": [
    "greet()"
   ]
  },
  {
   "cell_type": "code",
   "execution_count": 10,
   "id": "1e09dec7-14b6-46f5-b99b-9988ff42928a",
   "metadata": {},
   "outputs": [],
   "source": [
    "None"
   ]
  },
  {
   "cell_type": "code",
   "execution_count": null,
   "id": "68ce1864-a759-4949-8cac-3ce3a882a878",
   "metadata": {},
   "outputs": [],
   "source": []
  }
 ],
 "metadata": {
  "kernelspec": {
   "display_name": "Python [conda env:base] *",
   "language": "python",
   "name": "conda-base-py"
  },
  "language_info": {
   "codemirror_mode": {
    "name": "ipython",
    "version": 3
   },
   "file_extension": ".py",
   "mimetype": "text/x-python",
   "name": "python",
   "nbconvert_exporter": "python",
   "pygments_lexer": "ipython3",
   "version": "3.12.7"
  }
 },
 "nbformat": 4,
 "nbformat_minor": 5
}
