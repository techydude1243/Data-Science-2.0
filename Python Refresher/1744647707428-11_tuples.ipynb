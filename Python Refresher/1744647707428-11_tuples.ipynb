{
 "cells": [
  {
   "cell_type": "markdown",
   "id": "c86f1e22-776d-407b-89e6-b106a62de0c1",
   "metadata": {},
   "source": [
    "# Python Tuples and Tuple Methods\n",
    "\n",
    "## What is a Tuple?\n",
    "A **tuple** in Python is an ordered, immutable collection of elements. It is similar to a list, but once created, its elements cannot be modified.\n",
    "\n",
    "### Creating a Tuple:\n",
    "```python\n",
    "# Empty tuple\n",
    "empty_tuple = ()\n",
    "\n",
    "# Tuple with elements\n",
    "numbers = (1, 2, 3, 4, 5)\n",
    "\n",
    "# Mixed data types\n",
    "mixed_tuple = (1, \"Hello\", 3.14, True)\n",
    "\n",
    "# Single element tuple (comma is necessary)\n",
    "single_element = (42,)\n",
    "```\n",
    "\n",
    "## Common Tuple Methods\n",
    "\n",
    "| Method | Description | Example |\n",
    "|--------|------------|---------|\n",
    "| `count(x)` | Returns the number of times `x` appears in the tuple. | `my_tuple.count(2)` |\n",
    "| `index(x)` | Returns the index of the first occurrence of `x`. | `my_tuple.index(3)` |\n",
    "\n",
    "## Tuple Characteristics\n",
    "- **Immutable**: Once created, elements cannot be changed.\n",
    "- **Faster than lists**: Accessing elements in a tuple is faster than in a list.\n",
    "- **Can be used as dictionary keys**: Since tuples are immutable, they can be used as keys in dictionaries.\n",
    "\n",
    "## Accessing Tuple Elements\n",
    "```python\n",
    "my_tuple = (10, 20, 30, 40)\n",
    "\n",
    "# Indexing\n",
    "print(my_tuple[1])  # 20\n",
    "\n",
    "# Slicing\n",
    "print(my_tuple[1:3])  # (20, 30)\n",
    "```\n",
    "\n",
    "## Tuple Packing and Unpacking\n",
    "```python\n",
    "# Packing\n",
    "person = (\"Alice\", 25, \"Engineer\")\n",
    "\n",
    "# Unpacking\n",
    "name, age, profession = person\n",
    "print(name)  # Alice\n",
    "print(age)   # 25\n",
    "```\n",
    "\n",
    "## When to Use Tuples?\n",
    "- When you want an **unchangeable** collection of elements.\n",
    "- When you need a **faster** alternative to lists.\n",
    "- When storing **heterogeneous data** (e.g., database records, coordinates).\n"
   ]
  },
  {
   "cell_type": "code",
   "execution_count": 1,
   "id": "65241514-7e67-4970-9768-ea3dd8a67966",
   "metadata": {},
   "outputs": [],
   "source": [
    "e = ()"
   ]
  },
  {
   "cell_type": "code",
   "execution_count": 2,
   "id": "d02888d1-4e95-42d3-af1a-db39952c97f7",
   "metadata": {},
   "outputs": [
    {
     "data": {
      "text/plain": [
       "()"
      ]
     },
     "execution_count": 2,
     "metadata": {},
     "output_type": "execute_result"
    }
   ],
   "source": [
    "e"
   ]
  },
  {
   "cell_type": "code",
   "execution_count": 3,
   "id": "0804dec8-4140-48ca-84c6-8cd68ded6a80",
   "metadata": {},
   "outputs": [
    {
     "data": {
      "text/plain": [
       "tuple"
      ]
     },
     "execution_count": 3,
     "metadata": {},
     "output_type": "execute_result"
    }
   ],
   "source": [
    "type(e)"
   ]
  },
  {
   "cell_type": "code",
   "execution_count": 4,
   "id": "9c7d80fa-7ee0-4914-b420-91af36dec244",
   "metadata": {},
   "outputs": [],
   "source": [
    "l = []"
   ]
  },
  {
   "cell_type": "code",
   "execution_count": 5,
   "id": "554e686b-5dc9-4674-acd7-af763060dce7",
   "metadata": {},
   "outputs": [
    {
     "data": {
      "text/plain": [
       "list"
      ]
     },
     "execution_count": 5,
     "metadata": {},
     "output_type": "execute_result"
    }
   ],
   "source": [
    "type(l)"
   ]
  },
  {
   "cell_type": "code",
   "execution_count": 6,
   "id": "f7c92e34-f9d1-4535-a548-016bbac6ed65",
   "metadata": {},
   "outputs": [],
   "source": [
    "t = (5, 64, 23, 23)"
   ]
  },
  {
   "cell_type": "code",
   "execution_count": 7,
   "id": "b25396bb-41a0-45a5-9321-c04982ba6b48",
   "metadata": {},
   "outputs": [
    {
     "data": {
      "text/plain": [
       "(5, 64, 23, 23)"
      ]
     },
     "execution_count": 7,
     "metadata": {},
     "output_type": "execute_result"
    }
   ],
   "source": [
    "t"
   ]
  },
  {
   "cell_type": "code",
   "execution_count": 8,
   "id": "d1085a40-457e-46de-8e6f-bbebd80adea5",
   "metadata": {},
   "outputs": [
    {
     "data": {
      "text/plain": [
       "4"
      ]
     },
     "execution_count": 8,
     "metadata": {},
     "output_type": "execute_result"
    }
   ],
   "source": [
    "len(t)"
   ]
  },
  {
   "cell_type": "code",
   "execution_count": 9,
   "id": "64f16ded-de27-4baf-85f9-c60052109185",
   "metadata": {},
   "outputs": [
    {
     "data": {
      "text/plain": [
       "64"
      ]
     },
     "execution_count": 9,
     "metadata": {},
     "output_type": "execute_result"
    }
   ],
   "source": [
    "t[1]"
   ]
  },
  {
   "cell_type": "code",
   "execution_count": 10,
   "id": "1b1355f5-656d-4b62-9432-51f5a2024d9d",
   "metadata": {},
   "outputs": [
    {
     "data": {
      "text/plain": [
       "5"
      ]
     },
     "execution_count": 10,
     "metadata": {},
     "output_type": "execute_result"
    }
   ],
   "source": [
    "t[0]"
   ]
  },
  {
   "cell_type": "code",
   "execution_count": 11,
   "id": "30a723c8-8278-48f6-b2bd-113b0b314ef5",
   "metadata": {},
   "outputs": [
    {
     "ename": "IndexError",
     "evalue": "tuple index out of range",
     "output_type": "error",
     "traceback": [
      "\u001b[1;31m---------------------------------------------------------------------------\u001b[0m",
      "\u001b[1;31mIndexError\u001b[0m                                Traceback (most recent call last)",
      "Cell \u001b[1;32mIn[11], line 1\u001b[0m\n\u001b[1;32m----> 1\u001b[0m \u001b[38;5;28mprint\u001b[39m(t[\u001b[38;5;241m6\u001b[39m])\n",
      "\u001b[1;31mIndexError\u001b[0m: tuple index out of range"
     ]
    }
   ],
   "source": [
    "print(t[6])"
   ]
  },
  {
   "cell_type": "code",
   "execution_count": 12,
   "id": "163d72de-f025-4d69-b6f6-d2d46ba5b755",
   "metadata": {},
   "outputs": [
    {
     "ename": "TypeError",
     "evalue": "'tuple' object does not support item assignment",
     "output_type": "error",
     "traceback": [
      "\u001b[1;31m---------------------------------------------------------------------------\u001b[0m",
      "\u001b[1;31mTypeError\u001b[0m                                 Traceback (most recent call last)",
      "Cell \u001b[1;32mIn[12], line 1\u001b[0m\n\u001b[1;32m----> 1\u001b[0m t[\u001b[38;5;241m1\u001b[39m] \u001b[38;5;241m=\u001b[39m \u001b[38;5;241m34\u001b[39m\n",
      "\u001b[1;31mTypeError\u001b[0m: 'tuple' object does not support item assignment"
     ]
    }
   ],
   "source": [
    "t[1] = 34"
   ]
  },
  {
   "cell_type": "code",
   "execution_count": 13,
   "id": "027dd50a-514e-4a1f-95b6-9565f09e3f2d",
   "metadata": {},
   "outputs": [],
   "source": [
    "# Packing\n",
    "person = (\"Alice\", 25, \"Engineer\")\n",
    "\n",
    "# Unpacking\n",
    "name, age, profession = person"
   ]
  },
  {
   "cell_type": "code",
   "execution_count": 14,
   "id": "ded2b3b1-3e70-4baa-bb9d-3e512ded9236",
   "metadata": {},
   "outputs": [
    {
     "data": {
      "text/plain": [
       "'Alice'"
      ]
     },
     "execution_count": 14,
     "metadata": {},
     "output_type": "execute_result"
    }
   ],
   "source": [
    "name"
   ]
  },
  {
   "cell_type": "code",
   "execution_count": 15,
   "id": "0d5da9a2-aa9a-48c2-97d7-aeb34f7afb19",
   "metadata": {},
   "outputs": [
    {
     "data": {
      "text/plain": [
       "25"
      ]
     },
     "execution_count": 15,
     "metadata": {},
     "output_type": "execute_result"
    }
   ],
   "source": [
    "age"
   ]
  },
  {
   "cell_type": "code",
   "execution_count": 16,
   "id": "ef6cae39-cfc6-4888-aa74-f8d58e1a52d1",
   "metadata": {},
   "outputs": [
    {
     "data": {
      "text/plain": [
       "'Engineer'"
      ]
     },
     "execution_count": 16,
     "metadata": {},
     "output_type": "execute_result"
    }
   ],
   "source": [
    "profession"
   ]
  },
  {
   "cell_type": "code",
   "execution_count": null,
   "id": "668e1c60-6ba3-4a69-b0d4-141091e0bba5",
   "metadata": {},
   "outputs": [],
   "source": []
  }
 ],
 "metadata": {
  "kernelspec": {
   "display_name": "Python [conda env:base] *",
   "language": "python",
   "name": "conda-base-py"
  },
  "language_info": {
   "codemirror_mode": {
    "name": "ipython",
    "version": 3
   },
   "file_extension": ".py",
   "mimetype": "text/x-python",
   "name": "python",
   "nbconvert_exporter": "python",
   "pygments_lexer": "ipython3",
   "version": "3.12.7"
  }
 },
 "nbformat": 4,
 "nbformat_minor": 5
}
