{
 "cells": [
  {
   "cell_type": "markdown",
   "id": "02382162-55d5-4b35-9778-2b9db15bb7d0",
   "metadata": {},
   "source": [
    "# String Formatting in Python\n",
    "\n",
    "String is arguably the most used immutable data types in Python. Python provides multiple ways to format strings, including the `format()` method and f-strings (introduced in Python 3.6).\n",
    "\n",
    "## 1. Using `format()`\n",
    "\n",
    "```python\n",
    "name = \"Alice\"\n",
    "age = 25\n",
    "print(\"My name is {} and I am {} years old.\".format(name, age))\n",
    "# Output: My name is Alice and I am 25 years old.\n",
    "```\n",
    "\n",
    "### Positional and Keyword Arguments\n",
    "\n",
    "```python\n",
    "print(\"{0} is learning {1}\".format(\"Alice\", \"Python\"))  # Using positions\n",
    "print(\"{name} is learning {language}\".format(name=\"Alice\", language=\"Python\"))\n",
    "```\n",
    "\n",
    "## 2. Using f-Strings (Recommended)\n",
    "\n",
    "F-strings provide a cleaner and more readable way to format strings.\n",
    "\n",
    "```python\n",
    "name = \"Alice\"\n",
    "age = 25\n",
    "print(f\"My name is {name} and I am {age} years old.\")\n",
    "# Output: My name is Alice and I am 25 years old.\n",
    "```\n",
    "\n",
    "### Expressions Inside f-Strings\n",
    "\n",
    "```python\n",
    "a = 5\n",
    "b = 10\n",
    "print(f\"Sum of {a} and {b} is {a + b}\")\n",
    "# Output: Sum of 5 and 10 is 15\n",
    "```\n",
    "\n",
    "### Formatting Numbers\n",
    "\n",
    "```python\n",
    "pi = 3.14159\n",
    "print(f\"Pi rounded to 2 decimal places: {pi:.2f}\")\n",
    "# Output: Pi rounded to 2 decimal places: 3.14\n",
    "```\n",
    "\n",
    "### Padding and Alignment\n",
    "\n",
    "```python\n",
    "print(f\"{'Python':<10}\")  # Left-align\n",
    "print(f\"{'Python':>10}\")  # Right-align\n",
    "print(f\"{'Python':^10}\")  # Center-align\n",
    "```\n",
    "```:<10 → The < symbol means left-align the text within a total width of 10 characters.```\n",
    "\n",
    "F-strings are the most efficient and recommended way to format strings in modern Python!\n",
    " "
   ]
  },
  {
   "cell_type": "code",
   "execution_count": 7,
   "id": "7009c486-61c3-47ed-b8ad-0dce7131a5f5",
   "metadata": {},
   "outputs": [],
   "source": [
    "s = \"Harry\""
   ]
  },
  {
   "cell_type": "code",
   "execution_count": 8,
   "id": "16e77aaf-0cce-4d3d-9e88-f9df6a971d94",
   "metadata": {},
   "outputs": [
    {
     "data": {
      "text/plain": [
       "'HARRY'"
      ]
     },
     "execution_count": 8,
     "metadata": {},
     "output_type": "execute_result"
    }
   ],
   "source": [
    "s.upper()"
   ]
  },
  {
   "cell_type": "code",
   "execution_count": 6,
   "id": "9094e188-847f-4269-8c5a-6914fba3b67e",
   "metadata": {},
   "outputs": [
    {
     "data": {
      "text/plain": [
       "'Harry'"
      ]
     },
     "execution_count": 6,
     "metadata": {},
     "output_type": "execute_result"
    }
   ],
   "source": [
    "s\n"
   ]
  },
  {
   "cell_type": "code",
   "execution_count": 10,
   "id": "8d79bdd7-0ca4-4382-a3d1-bbe6c50db092",
   "metadata": {},
   "outputs": [
    {
     "name": "stdout",
     "output_type": "stream",
     "text": [
      "My name is John and I am 55 years old.\n"
     ]
    }
   ],
   "source": [
    "name = \"John\"\n",
    "age = 55\n",
    "print(\"My name is {} and I am {} years old.\".format(name, age))"
   ]
  },
  {
   "cell_type": "code",
   "execution_count": 11,
   "id": "63748dab-13c1-4d57-85d6-5af156ef9806",
   "metadata": {},
   "outputs": [
    {
     "name": "stdout",
     "output_type": "stream",
     "text": [
      "My name is John and I am 55 years old.\n"
     ]
    }
   ],
   "source": [
    "print(f\"My name is {name} and I am {age} years old.\")"
   ]
  },
  {
   "cell_type": "code",
   "execution_count": 12,
   "id": "35307eca-aea3-423b-b74c-f4a78bdd9b8b",
   "metadata": {},
   "outputs": [
    {
     "name": "stdout",
     "output_type": "stream",
     "text": [
      "Python    \n"
     ]
    }
   ],
   "source": [
    "print(f\"{'Python':<10}\")"
   ]
  },
  {
   "cell_type": "code",
   "execution_count": 14,
   "id": "05232634-40fa-425e-a2a4-0c4ac53f5ba9",
   "metadata": {},
   "outputs": [
    {
     "name": "stdout",
     "output_type": "stream",
     "text": [
      "Python    \n",
      "    Python\n",
      "  Python  \n"
     ]
    }
   ],
   "source": [
    "print(f\"{'Python':<10}\")  # Left-align\n",
    "print(f\"{'Python':>10}\")  # Right-align\n",
    "print(f\"{'Python':^10}\")  # Center-align"
   ]
  },
  {
   "cell_type": "code",
   "execution_count": null,
   "id": "29973cd7-7cc4-44e9-8794-70c1b05647d5",
   "metadata": {},
   "outputs": [],
   "source": []
  }
 ],
 "metadata": {
  "kernelspec": {
   "display_name": "Python [conda env:base] *",
   "language": "python",
   "name": "conda-base-py"
  },
  "language_info": {
   "codemirror_mode": {
    "name": "ipython",
    "version": 3
   },
   "file_extension": ".py",
   "mimetype": "text/x-python",
   "name": "python",
   "nbconvert_exporter": "python",
   "pygments_lexer": "ipython3",
   "version": "3.12.7"
  }
 },
 "nbformat": 4,
 "nbformat_minor": 5
}
