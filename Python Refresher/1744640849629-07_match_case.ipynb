{
 "cells": [
  {
   "cell_type": "markdown",
   "id": "3f7eb858-fe92-468b-831d-0feaadc4a630",
   "metadata": {},
   "source": [
    " \n",
    "# Match-Case in Python\n",
    "\n",
    "The `match-case` statement, introduced in Python 3.10, provides pattern matching similar to `switch` statements in other languages.\n",
    "\n",
    "## Syntax\n",
    "\n",
    "```python\n",
    "def http_status(code):\n",
    "    match code:\n",
    "        case 200:\n",
    "            return \"OK\"\n",
    "        case 400:\n",
    "            return \"Bad Request\"\n",
    "        case 404:\n",
    "            return \"Not Found\"\n",
    "        case 500:\n",
    "            return \"Internal Server Error\"\n",
    "        case _:\n",
    "            return \"Unknown Status\"\n",
    "\n",
    "print(http_status(200))  # Output: OK\n",
    "print(http_status(404))  # Output: Not Found\n",
    "```\n",
    "\n",
    "## Features:\n",
    "- The `_` (underscore) acts as a default case.\n",
    "- Patterns can include literals, variable bindings, and even structural patterns.\n",
    "\n",
    "## Example: Matching Data Structures\n",
    "\n",
    "```python\n",
    "point = (3, 4)\n",
    "\n",
    "match point:\n",
    "    case (0, 0):\n",
    "        print(\"Origin\")\n",
    "    case (x, 0):\n",
    "        print(f\"X-Axis at {x}\")\n",
    "    case (0, y):\n",
    "        print(f\"Y-Axis at {y}\")\n",
    "    case (x, y):\n",
    "        print(f\"Point at ({x}, {y})\")\n",
    "```\n",
    " "
   ]
  },
  {
   "cell_type": "code",
   "execution_count": 8,
   "id": "6dd801d2-b7c0-441d-b6fb-02ba9afbe968",
   "metadata": {},
   "outputs": [],
   "source": [
    "code = 2000"
   ]
  },
  {
   "cell_type": "code",
   "execution_count": 10,
   "id": "24cbfcfd-e25b-4579-a335-efd60932a52f",
   "metadata": {},
   "outputs": [
    {
     "name": "stdout",
     "output_type": "stream",
     "text": [
      "Nothing matched\n",
      "End of Program\n"
     ]
    }
   ],
   "source": [
    "match code:\n",
    "    case 200:\n",
    "        print(\"Response Ok\")\n",
    "        print(\"Good job!\")\n",
    "    case 400:\n",
    "        print(\"Bad Response\")\n",
    "    case 404:\n",
    "        print(\"Not found\")\n",
    "    case _:\n",
    "        print(\"Nothing matched\")\n",
    "print(\"End of Program\")\n"
   ]
  },
  {
   "cell_type": "code",
   "execution_count": null,
   "id": "647b0230-4933-4774-ac93-9f97566ced99",
   "metadata": {},
   "outputs": [],
   "source": []
  }
 ],
 "metadata": {
  "kernelspec": {
   "display_name": "Python [conda env:base] *",
   "language": "python",
   "name": "conda-base-py"
  },
  "language_info": {
   "codemirror_mode": {
    "name": "ipython",
    "version": 3
   },
   "file_extension": ".py",
   "mimetype": "text/x-python",
   "name": "python",
   "nbconvert_exporter": "python",
   "pygments_lexer": "ipython3",
   "version": "3.12.7"
  }
 },
 "nbformat": 4,
 "nbformat_minor": 5
}
